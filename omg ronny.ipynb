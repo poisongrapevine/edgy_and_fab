{
 "cells": [
  {
   "cell_type": "markdown",
   "metadata": {},
   "source": [
    "## and now imma make code"
   ]
  },
  {
   "cell_type": "code",
   "execution_count": 189,
   "metadata": {},
   "outputs": [],
   "source": [
    "import re\n",
    "import csv\n",
    "import pymorphy2\n",
    "import os\n",
    "\n",
    "morph = pymorphy2.MorphAnalyzer()\n",
    "\n",
    "address = 'put your /archive/messages repository here'\n",
    "f_json = 'result.csv'\n",
    "f_ads = []"
   ]
  },
  {
   "cell_type": "code",
   "execution_count": 210,
   "metadata": {},
   "outputs": [
    {
     "data": {
      "text/plain": [
       "'/Users/shikunova/Desktop/fun/lowercase/Archive/messages/.DS_Store'"
      ]
     },
     "execution_count": 210,
     "metadata": {},
     "output_type": "execute_result"
    }
   ],
   "source": [
    "# соберем адреса файлов с сообщениями\n",
    "# есть подозрения, что этот кусок кода ходит не по всем файлам, но мне он собрал около 10000 сообщений, чего\n",
    "# в целом хватило\n",
    "\n",
    "for subdir, dirs, files in os.walk(address):\n",
    "    for file in files:\n",
    "        f_ads.append(os.path.join(subdir, file))"
   ]
  },
  {
   "cell_type": "code",
   "execution_count": 191,
   "metadata": {},
   "outputs": [],
   "source": [
    "# объявим функцию для обработки дат (в вк они записаны по-клоунски)\n",
    "\n",
    "def datebar(date):\n",
    "    datebar = date[:11].split()\n",
    "    months = {'янв':'01',\n",
    "             'фев':'02',\n",
    "             'мар':'03',\n",
    "             'апр':'04',\n",
    "             'мая':'05',\n",
    "             'июн':'06',\n",
    "             'июл':'07',\n",
    "             'авг':'08',\n",
    "             'сен':'09',\n",
    "             'окт':'10',\n",
    "             'ноя':'11',\n",
    "             'дек':'12',}\n",
    "    datebar[1] = months[datebar[1]]\n",
    "    datebar = '.'.join(datebar)\n",
    "    return datebar\n",
    "\n",
    "# а эта функция будет превращать сообщение в словарь с метаданными и кидать его в общий список messages\n",
    "  \n",
    "def dict_maker(f_name):\n",
    "    with open(f_name, encoding='windows-1251') as file:\n",
    "        messages = []\n",
    "        text = file.read()\n",
    "        regex = '''<div class=\"message__header\"><a href=.+?>(.+?)</a>, (.{22})</div>\n",
    "  <div>(.+?)<div class=\"kludges\"></div>'''\n",
    "        l = re.findall(r''+regex, text, re.MULTILINE)\n",
    "        for mes in l:\n",
    "            ele = dict()\n",
    "            if mes[0] == 'DELETED':\n",
    "                ele['name'] = ''\n",
    "            else:\n",
    "                ele['name'] = mes[0]\n",
    "                tag = str(morph.parse(mes[0].split()[0])[0][1]).split(',')\n",
    "                if len(tag) >= 2:\n",
    "                    ele['gender'] = tag[2]\n",
    "                else:\n",
    "                    ele['gender'] = ''\n",
    "            ele['date'] = datebar(mes[1])\n",
    "            ele['text'] = mes[2]\n",
    "            messages.append(ele)\n",
    "\n",
    "            return messages\n",
    "\n",
    "fieldnames = ['name', 'gender', 'date', 'text']\n",
    "        \n",
    "with open(f_json, 'w', encoding='utf-8') as f:\n",
    "    writer = csv.DictWriter(f, fieldnames)\n",
    "    writer.writeheader()\n",
    "    for file in f_ads:\n",
    "        messages = dict_maker(file)\n",
    "        if messages:\n",
    "            for ele in messages:\n",
    "                writer.writerow(ele)"
   ]
  },
  {
   "cell_type": "markdown",
   "metadata": {},
   "source": [
    "## now work prilichno"
   ]
  },
  {
   "cell_type": "code",
   "execution_count": 208,
   "metadata": {},
   "outputs": [],
   "source": [
    "# это добавочный код, где я уже приписывала сообщениям фичу upper/lower\n",
    "# что будете делать вы - это уже я не знаю\n",
    "# что хотите\n",
    "\n",
    "import csv\n",
    "messages_pril = []\n",
    "\n",
    "with open('приличный.csv', encoding='utf-8') as f:\n",
    "    reader = csv.DictReader(f, delimiter=';')\n",
    "    for row in reader:\n",
    "        messages_pril.append(row)\n",
    "        \n",
    "for mes in messages_pril:\n",
    "    if mes['text'][0].islower():\n",
    "        mes['case'] = 'lower'\n",
    "    elif mes['text'][0].isupper():\n",
    "        mes['case'] = 'upper'\n",
    "    else:\n",
    "        mes['case'] = ''\n",
    "        \n",
    "fieldnames_pril = ['name', 'gender', 'date', 'text', 'case']\n",
    "        \n",
    "with open('приличный.final.csv', 'w', encoding='utf-8') as f:\n",
    "    writer = csv.DictWriter(f, fieldnames_pril)\n",
    "    writer.writeheader()\n",
    "    for ele in messages_pril:\n",
    "        writer.writerow(ele)"
   ]
  },
  {
   "cell_type": "code",
   "execution_count": null,
   "metadata": {},
   "outputs": [],
   "source": []
  }
 ],
 "metadata": {
  "kernelspec": {
   "display_name": "Python 3",
   "language": "python",
   "name": "python3"
  },
  "language_info": {
   "codemirror_mode": {
    "name": "ipython",
    "version": 3
   },
   "file_extension": ".py",
   "mimetype": "text/x-python",
   "name": "python",
   "nbconvert_exporter": "python",
   "pygments_lexer": "ipython3",
   "version": "3.8.6"
  }
 },
 "nbformat": 4,
 "nbformat_minor": 4
}
